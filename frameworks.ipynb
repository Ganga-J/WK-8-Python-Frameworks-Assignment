{
 "cells": [
  {
   "cell_type": "code",
   "execution_count": null,
   "id": "87536f7b",
   "metadata": {},
   "outputs": [],
   "source": [
    "import pandas as pd\n"
   ]
  },
  {
   "cell_type": "code",
   "execution_count": null,
   "id": "5ab9fa16",
   "metadata": {},
   "outputs": [],
   "source": [
    "# Part 1: Data Loading and Basic Exploration (2-3 hours)\n"
   ]
  },
  {
   "cell_type": "code",
   "execution_count": null,
   "id": "3025daf3",
   "metadata": {
    "scrolled": true
   },
   "outputs": [],
   "source": [
    "df = pd.read_csv('metadata.csv')"
   ]
  },
  {
   "cell_type": "markdown",
   "id": "015a1974-4228-444b-a94d-c4507235ef98",
   "metadata": {},
   "source": [
    "Examine the first few rows and data structure"
   ]
  },
  {
   "cell_type": "code",
   "execution_count": null,
   "id": "e759f01a",
   "metadata": {},
   "outputs": [],
   "source": [
    "print(df.head())"
   ]
  },
  {
   "cell_type": "code",
   "execution_count": null,
   "id": "3a15b612-7ca2-40d9-bca8-e2039752772d",
   "metadata": {},
   "outputs": [],
   "source": [
    "print(df.shape)"
   ]
  },
  {
   "cell_type": "code",
   "execution_count": null,
   "id": "17a30527-99d5-43be-a383-969139d9bb22",
   "metadata": {},
   "outputs": [],
   "source": [
    "print(df.info())"
   ]
  },
  {
   "cell_type": "markdown",
   "id": "e89cb117-257b-4204-9873-df0f32816c33",
   "metadata": {},
   "source": [
    "Basic data exploration\n",
    "\n",
    "Check the DataFrame dimensions (rows, columns)"
   ]
  },
  {
   "cell_type": "code",
   "execution_count": null,
   "id": "1a53782c-2b98-43ca-ab71-d042fe355352",
   "metadata": {},
   "outputs": [],
   "source": [
    "print(\"DataFrame dimensions:\", df.shape  )"
   ]
  },
  {
   "cell_type": "markdown",
   "id": "773e9c37-7ea3-4fb6-bc5f-29aba1845da6",
   "metadata": {},
   "source": [
    "Data Types and Missing Values"
   ]
  },
  {
   "cell_type": "code",
   "execution_count": null,
   "id": "9c33d2a2-141a-43cf-af79-d1a5000927a1",
   "metadata": {},
   "outputs": [],
   "source": [
    "# Check data types and non-null counts\n",
    "print(\"\\nDataFrame info:\")\n",
    "df.info()"
   ]
  },
  {
   "cell_type": "markdown",
   "id": "8d59ed12-3d0b-4848-a553-4ca00aa15729",
   "metadata": {},
   "source": [
    "check missing values"
   ]
  },
  {
   "cell_type": "code",
   "execution_count": null,
   "id": "39365375-c9bd-4930-a581-ade334e211db",
   "metadata": {},
   "outputs": [],
   "source": [
    "print('Missing values per column:')\n",
    "print(df.isnull().sum())"
   ]
  },
  {
   "cell_type": "code",
   "execution_count": null,
   "id": "2dcfc904-7a0a-4ee2-9e7e-20b8ffea4718",
   "metadata": {},
   "outputs": [],
   "source": [
    "# Generate basic statistics for numerical columns"
   ]
  },
  {
   "cell_type": "code",
   "execution_count": null,
   "id": "32b81b6d-5c2a-4d81-8d65-e7d1731c17d3",
   "metadata": {},
   "outputs": [],
   "source": [
    "print(\"Basic statistics for numerical columns: \")\n",
    "print(df.describe())"
   ]
  },
  {
   "cell_type": "markdown",
   "id": "2efac4c5-37e6-48cf-9305-1da65814df20",
   "metadata": {},
   "source": [
    "1. Identify Columns with Many Missing Values"
   ]
  },
  {
   "cell_type": "code",
   "execution_count": null,
   "id": "dbb16cc9-b844-44d4-b964-b48409789a20",
   "metadata": {},
   "outputs": [],
   "source": [
    "# Check for missing values in each column\n",
    "print(df.isnull().sum())"
   ]
  },
  {
   "cell_type": "code",
   "execution_count": null,
   "id": "a3647758-d034-4a0c-8d1d-b4343ee985b4",
   "metadata": {},
   "outputs": [],
   "source": [
    "# Create a copy of the original DataFrame to work on\n",
    "clean_df = df.copy()\n",
    "\n",
    "# Remove rows with missing titles\n",
    "clean_df.dropna(subset=['title'], inplace=True)\n",
    "\n",
    "# Fill missing values in 'abstract' and 'journal' with a placeholder\n",
    "clean_df['abstract'].fillna('Not Available', inplace=True)\n",
    "clean_df['journal'].fillna('Not Available', inplace=True)\n",
    "\n",
    "# Convert the 'publish_time' column to datetime objects\n",
    "clean_df['publish_time'] = pd.to_datetime(clean_df['publish_time'], errors='coerce')\n",
    "\n",
    "# Drop rows where 'publish_time' is not a valid date\n",
    "clean_df.dropna(subset=['publish_time'], inplace=True)\n",
    "\n",
    "# Extract the year from the publication date\n",
    "clean_df['publication_year'] = clean_df['publish_time'].dt.year\n",
    "\n",
    "# Create a new column 'abstract_word_count'\n",
    "clean_df['abstract_word_count'] = clean_df['abstract'].str.split().str.len()\n",
    "\n",
    "# Display the remaining missing values to confirm the cleaning\n",
    "print(\"\\nMissing values after cleaning:\")\n",
    "print(clean_df.isnull().sum())"
   ]
  }
 ],
 "metadata": {
  "kernelspec": {
   "display_name": "Python 3 (ipykernel)",
   "language": "python",
   "name": "python3"
  },
  "language_info": {
   "codemirror_mode": {
    "name": "ipython",
    "version": 3
   },
   "file_extension": ".py",
   "mimetype": "text/x-python",
   "name": "python",
   "nbconvert_exporter": "python",
   "pygments_lexer": "ipython3",
   "version": "3.13.5"
  }
 },
 "nbformat": 4,
 "nbformat_minor": 5
}
